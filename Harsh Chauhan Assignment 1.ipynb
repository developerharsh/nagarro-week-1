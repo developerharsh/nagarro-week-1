{
 "cells": [
  {
   "cell_type": "markdown",
   "metadata": {},
   "source": [
    "# Qn 1"
   ]
  },
  {
   "cell_type": "code",
   "execution_count": 1,
   "metadata": {},
   "outputs": [
    {
     "name": "stdout",
     "output_type": "stream",
     "text": [
      "enter the value of n: 6\n",
      "[6, 6, 6, 6, 6, 6]\n",
      "[6, 5, 5, 5, 5, 6]\n",
      "[6, 5, 4, 4, 5, 6]\n",
      "[6, 5, 4, 4, 5, 6]\n",
      "[6, 5, 5, 5, 5, 6]\n",
      "[6, 6, 6, 6, 6, 6]\n"
     ]
    }
   ],
   "source": [
    "n=int(input(\"enter the value of n: \"))\n",
    "l= list();\n",
    "\n",
    "for i in range(n):\n",
    "    l=[5]*n;v=n+1;dec=0;\n",
    "    if n%2==0:\n",
    "        k=(int)(n/2);\n",
    "    else:\n",
    "        k=(int)(n/2+1);\n",
    "    for j in range(0,k,1):\n",
    "        k=n-1-j\n",
    "        if dec<=i and i<k:\n",
    "           v-=1;\n",
    "           dec=dec+1;\n",
    "        elif dec<n-i and i>=k:\n",
    "            v-=1\n",
    "            dec+=1\n",
    "            \n",
    "        l[j]=v;\n",
    "        l[k]=v;\n",
    "    \n",
    "    print(l)"
   ]
  },
  {
   "cell_type": "markdown",
   "metadata": {},
   "source": [
    "# Qn 2"
   ]
  },
  {
   "cell_type": "code",
   "execution_count": 6,
   "metadata": {},
   "outputs": [
    {
     "name": "stdout",
     "output_type": "stream",
     "text": [
      "Enter value of n: 5\n",
      "    *\n",
      "   ***\n",
      "  *****\n",
      " *******\n",
      "*********\n"
     ]
    }
   ],
   "source": [
    "n=int(input(\"Enter value of n: \"))\n",
    "for i in range(n):\n",
    "    sp=n-i-1;\n",
    "    st=i+1;\n",
    "    for j in range(sp):\n",
    "        print(\" \",end=\"\")\n",
    "    for j in range (i*2+1):\n",
    "        print(\"*\",end=\"\")\n",
    "    print()"
   ]
  },
  {
   "cell_type": "markdown",
   "metadata": {},
   "source": [
    "# Qn 3"
   ]
  },
  {
   "cell_type": "code",
   "execution_count": 15,
   "metadata": {},
   "outputs": [
    {
     "name": "stdout",
     "output_type": "stream",
     "text": [
      "Enter value of n: 5\n",
      "    A\n",
      "   ABA\n",
      "  ABCBA\n",
      " ABCDCBA\n",
      "ABCDEDCBA\n"
     ]
    }
   ],
   "source": [
    "n=int(input(\"Enter value of n: \"))\n",
    "for i in range(n):\n",
    "    sp=n-i-1;\n",
    "    var=ord('A')\n",
    "    for j in range(sp):\n",
    "        print(\" \",end=\"\")\n",
    "    for j in range (i*2+1):\n",
    "        \n",
    "        if(j<=i and not(j)==0):\n",
    "            var+=1\n",
    "        elif not(j)==0:\n",
    "            var-=1\n",
    "            \n",
    "        print(chr(var),end=\"\")\n",
    "    print()"
   ]
  },
  {
   "cell_type": "markdown",
   "metadata": {},
   "source": [
    "# Qn 4"
   ]
  },
  {
   "cell_type": "code",
   "execution_count": 24,
   "metadata": {},
   "outputs": [
    {
     "name": "stdout",
     "output_type": "stream",
     "text": [
      "aaa\n",
      "aab\n",
      "aac\n",
      "aba\n",
      "abb\n",
      "abc\n",
      "aca\n",
      "acb\n",
      "acc\n",
      "baa\n",
      "bab\n",
      "bac\n",
      "bba\n",
      "bbb\n",
      "bbc\n",
      "bca\n",
      "bcb\n",
      "bcc\n",
      "caa\n",
      "cab\n",
      "cac\n",
      "cba\n",
      "cbb\n",
      "cbc\n",
      "cca\n",
      "ccb\n",
      "ccc\n"
     ]
    }
   ],
   "source": [
    "lst=['a','b','c'];\n",
    "printstr(3,\"\",lst)\n",
    "    \n",
    "def printstr(k,st,lst):\n",
    "    if(k==0):\n",
    "        print(st)\n",
    "        return\n",
    "    \n",
    "    for ele in lst:\n",
    "        printstr(k-1,st+ele,lst)\n",
    "            \n",
    "\n",
    "    "
   ]
  },
  {
   "cell_type": "code",
   "execution_count": null,
   "metadata": {},
   "outputs": [],
   "source": []
  },
  {
   "cell_type": "markdown",
   "metadata": {},
   "source": [
    "# Qn 5"
   ]
  },
  {
   "cell_type": "code",
   "execution_count": 21,
   "metadata": {},
   "outputs": [
    {
     "name": "stdout",
     "output_type": "stream",
     "text": [
      "Enter the no of records: 2\n",
      "Enter the Roll number of 1st student: 01\n",
      "Enter the name of 1st student: Harsh\n",
      "Enter the branch of 1st student: CSE\n",
      "Enter the Roll number of 2st student: 02\n",
      "Enter the name of 2st student: Govind\n",
      "Enter the branch of 2st student: IT\n"
     ]
    }
   ],
   "source": [
    "record=list()\n",
    "\n",
    "n=int(input(\"Enter the no of records: \"))\n",
    "\n",
    "for i in range(n):\n",
    "    rollno=int(input(\"Enter the Roll number of {}st student: \".format(i+1)))\n",
    "    name=input(\"Enter the name of {}st student: \".format(i+1))\n",
    "    branch=input(\"Enter the branch of {}st student: \".format(i+1))\n",
    "    d={\n",
    "        'roll-no':rollno,\n",
    "        'name':name,\n",
    "        'branch':branch\n",
    "    }\n",
    "    record.append(d)"
   ]
  },
  {
   "cell_type": "code",
   "execution_count": 22,
   "metadata": {},
   "outputs": [
    {
     "data": {
      "text/plain": [
       "[{'roll-no': 1, 'name': 'Harsh', 'branch': 'CSE'},\n",
       " {'roll-no': 2, 'name': 'Govind', 'branch': 'IT'}]"
      ]
     },
     "execution_count": 22,
     "metadata": {},
     "output_type": "execute_result"
    }
   ],
   "source": [
    "record"
   ]
  },
  {
   "cell_type": "markdown",
   "metadata": {},
   "source": [
    "# Qn 6"
   ]
  },
  {
   "cell_type": "code",
   "execution_count": 30,
   "metadata": {},
   "outputs": [
    {
     "name": "stdout",
     "output_type": "stream",
     "text": [
      "Second largest no is 4\n"
     ]
    }
   ],
   "source": [
    "l=[4,6,1,3,2,6,4]\n",
    "l.sort(reverse=True)\n",
    "i=0\n",
    "while 1:\n",
    "    if l[i]==l[i+1]:\n",
    "        i=i+1\n",
    "        continue\n",
    "    else:\n",
    "        print(\"Second largest no is {}\".format(l[i+1]))\n",
    "        break\n",
    "    "
   ]
  },
  {
   "cell_type": "markdown",
   "metadata": {},
   "source": [
    "# Qn 6"
   ]
  },
  {
   "cell_type": "code",
   "execution_count": null,
   "metadata": {},
   "outputs": [],
   "source": [
    "import glob, os;\n",
    "directory = input(\"Enter directory to list all files it contains: \");\n",
    "os.chdir(directory);\n",
    "for file in glob.glob(\"*.*\"):\n",
    "    print(file);"
   ]
  },
  {
   "cell_type": "code",
   "execution_count": 2,
   "metadata": {},
   "outputs": [
    {
     "name": "stdout",
     "output_type": "stream",
     "text": [
      "Enter directory of the file: C:\\Users\\Harsh\\Assignments\n",
      "Enter name of the file: demo.txt\n",
      "Enter the new name of the file: demo.pdf\n"
     ]
    }
   ],
   "source": [
    "import os\n",
    "directory = input(\"Enter directory of the file: \");\n",
    "file =input(\"Enter name of the file: \");\n",
    "name=input(\"Enter the new name of the file: \");\n",
    "os.rename(directory+\"\\\\\"+file,directory+\"\\\\\"+name)"
   ]
  },
  {
   "cell_type": "markdown",
   "metadata": {},
   "source": [
    "# Qn 7"
   ]
  },
  {
   "cell_type": "code",
   "execution_count": 12,
   "metadata": {},
   "outputs": [
    {
     "name": "stdout",
     "output_type": "stream",
     "text": [
      "6\n",
      "Enter your guess: 4\n",
      "your guess is wrong\n",
      "False\n"
     ]
    }
   ],
   "source": [
    "import random\n",
    "num=int(random.random()*10)\n",
    "print(num)\n",
    "guess=int(input(\"Enter your guess: \"))\n",
    "\n",
    "if guess==num:\n",
    "    print(\"You guessed correctly\")\n",
    "else:\n",
    "    print(\"your guess is wrong\")\n",
    "    "
   ]
  },
  {
   "cell_type": "code",
   "execution_count": null,
   "metadata": {},
   "outputs": [],
   "source": []
  },
  {
   "cell_type": "code",
   "execution_count": null,
   "metadata": {},
   "outputs": [],
   "source": []
  }
 ],
 "metadata": {
  "kernelspec": {
   "display_name": "Python 3",
   "language": "python",
   "name": "python3"
  }
 },
 "nbformat": 4,
 "nbformat_minor": 2
}
